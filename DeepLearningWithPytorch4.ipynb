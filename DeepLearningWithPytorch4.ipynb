{
  "nbformat": 4,
  "nbformat_minor": 0,
  "metadata": {
    "colab": {
      "name": "DeepLearningWithPytorch4.ipynb",
      "provenance": [],
      "collapsed_sections": [],
      "authorship_tag": "ABX9TyMHsQ2MFrzgCbpHFa32hLAy",
      "include_colab_link": true
    },
    "kernelspec": {
      "name": "python3",
      "display_name": "Python 3"
    },
    "language_info": {
      "name": "python"
    }
  },
  "cells": [
    {
      "cell_type": "markdown",
      "metadata": {
        "id": "view-in-github",
        "colab_type": "text"
      },
      "source": [
        "<a href=\"https://colab.research.google.com/github/NiloufarAsghari/PyTorch-Tutorial/blob/main/DeepLearningWithPytorch4.ipynb\" target=\"_parent\"><img src=\"https://colab.research.google.com/assets/colab-badge.svg\" alt=\"Open In Colab\"/></a>"
      ]
    },
    {
      "cell_type": "markdown",
      "source": [
        "# **Backpropagation**\n",
        "\n",
        "\n",
        "###**Essentials**\n",
        "\n",
        "Helpful link about what is **derivative**:\n",
        "\n",
        "<a href=\"https://www.youtube.com/watch?v=9vKqVkMQHKk\">derivative</a>\n",
        "\n",
        "\n",
        "Helpful link about **Backpropagation**:\n",
        "\n",
        "<a href=\"https://www.youtube.com/watch?v=Ilg3gGewQ5U\">Backpropagation</a>\n",
        "\n",
        "\n",
        "\n",
        "Helpful link about **chain rule**:\n",
        "\n",
        "<a href=\"https://www.youtube.com/watch?v=YG15m2VwSjA\">chain rule</a>\n",
        "\n",
        "\n",
        "\n",
        "\n",
        "Helpful link about **Computational Graph**:\n",
        "\n",
        "<a href=\"https://www.youtube.com/watch?v=hCP1vGoCdYU\">Computational Graph</a>\n",
        "\n",
        "\n",
        "\n",
        "<a href=\"https://www.youtube.com/watch?v=hM74RH82LyI\">Computational Graph</a>\n",
        "\n",
        "\n"
      ],
      "metadata": {
        "id": "yIn2yXnYtXgp"
      }
    },
    {
      "cell_type": "code",
      "source": [
        "import torch"
      ],
      "metadata": {
        "id": "Yqd4leX7iLzT"
      },
      "execution_count": 1,
      "outputs": []
    },
    {
      "cell_type": "code",
      "source": [
        "#Example code of linear Regression using backpropagation\n",
        "\n",
        "\n",
        "#1-Forward Pass : Compute loss\n",
        "#2-compute Local Gradients\n",
        "#3-Backward Pass: using chain rule\n",
        "\n",
        "x = torch.tensor(3.0)\n",
        "y = torch.tensor(2.0) \n",
        "\n",
        "#weights --> initial weight   // We need to specify gradient\n",
        "\n",
        "w= torch.tensor(1.0 , requires_grad=True)\n",
        "\n",
        "#forward pass and compute the loss\n",
        "y_hat= w*x\n",
        "loss= (y-y_hat)**2\n",
        "print(loss)\n",
        "\n",
        "#compute backward pass\n",
        "loss.backward() #gradient computation\n",
        "print(w.grad)\n",
        "\n",
        "#4-Update our weight\n",
        "#Do iterations\n"
      ],
      "metadata": {
        "colab": {
          "base_uri": "https://localhost:8080/"
        },
        "id": "opOv-UbInMUx",
        "outputId": "2a971878-4414-415f-8da3-668cad848907"
      },
      "execution_count": 4,
      "outputs": [
        {
          "output_type": "stream",
          "name": "stdout",
          "text": [
            "tensor(1., grad_fn=<PowBackward0>)\n",
            "tensor(6.)\n"
          ]
        }
      ]
    }
  ]
}