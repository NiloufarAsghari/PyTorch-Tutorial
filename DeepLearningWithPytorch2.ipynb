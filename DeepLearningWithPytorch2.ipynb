{
  "nbformat": 4,
  "nbformat_minor": 0,
  "metadata": {
    "colab": {
      "name": "DeepLearningWithPytorch2.ipynb",
      "provenance": [],
      "collapsed_sections": [],
      "authorship_tag": "ABX9TyMMxM8n+7OwE0bgBXU9a52y",
      "include_colab_link": true
    },
    "kernelspec": {
      "name": "python3",
      "display_name": "Python 3"
    },
    "language_info": {
      "name": "python"
    }
  },
  "cells": [
    {
      "cell_type": "markdown",
      "metadata": {
        "id": "view-in-github",
        "colab_type": "text"
      },
      "source": [
        "<a href=\"https://colab.research.google.com/github/NiloufarAsghari/Pytorch-Tutorial/blob/main/DeepLearningWithPytorch2.ipynb\" target=\"_parent\"><img src=\"https://colab.research.google.com/assets/colab-badge.svg\" alt=\"Open In Colab\"/></a>"
      ]
    },
    {
      "cell_type": "code",
      "execution_count": null,
      "metadata": {
        "id": "QpiHG1BYr62t"
      },
      "outputs": [],
      "source": [
        "import torch"
      ]
    },
    {
      "cell_type": "code",
      "source": [
        "#make an empty tensor\n",
        "\n",
        "\n",
        "#1D array with 2 values\n",
        "x=torch.empty(2)\n",
        "\n",
        "#2D Arrays\n",
        "y=torch.empty(2,3)\n",
        "\n",
        "\n",
        "#Create Tensor with Random Value\n",
        "z=torch.rand(2,2)\n",
        "\n",
        "#Like Numpy Tensor With Zero values\n",
        "R=torch.zeros(2,2)\n",
        "\n",
        "#Like Numpy Tensor With One values\n",
        "q=torch.ones(2,2)\n",
        "\n",
        "\n",
        "#Change the dtype Parameter ---> Default=torch.float32\n",
        "\n",
        "y=torch.empty(2,3,dtype=torch.int)\n",
        "\n",
        "#Create Tensor using Array\n",
        "\n",
        "xx=torch.tensor([1.2,3.5])"
      ],
      "metadata": {
        "id": "zL1eNJhzt39t"
      },
      "execution_count": null,
      "outputs": []
    },
    {
      "cell_type": "code",
      "source": [
        "print(x)\n",
        "print(y)\n",
        "print(z)\n",
        "print(R)\n",
        "print(q)\n",
        "print(x.dtype)\n",
        "print(y.dtype)\n",
        "print(x.size())\n",
        "print(xx)"
      ],
      "metadata": {
        "colab": {
          "base_uri": "https://localhost:8080/"
        },
        "id": "-GRF18sruWxl",
        "outputId": "183881f8-646f-4eca-9a88-7343b2e50072"
      },
      "execution_count": null,
      "outputs": [
        {
          "output_type": "stream",
          "name": "stdout",
          "text": [
            "tensor([1.1403e-35, 0.0000e+00])\n",
            "tensor([[91394176,        0,        0],\n",
            "        [       0,        0,        0]], dtype=torch.int32)\n",
            "tensor([[0.3718, 0.2406],\n",
            "        [0.6130, 0.8531]])\n",
            "tensor([[0., 0.],\n",
            "        [0., 0.]])\n",
            "tensor([[1., 1.],\n",
            "        [1., 1.]])\n",
            "torch.float32\n",
            "torch.int32\n",
            "torch.Size([2])\n",
            "tensor([1.2000, 3.5000])\n"
          ]
        }
      ]
    },
    {
      "cell_type": "code",
      "source": [
        "#Sum\n",
        "x=torch.rand(2,2)\n",
        "y=torch.rand(2,2)\n",
        "print(x)\n",
        "print(y)\n",
        "\n",
        "\n",
        "#1st Way to SUM\n",
        "#z=x+y \n",
        "#OR\n",
        "#z=torch.add(x,y)\n",
        "#print(z)\n",
        "\n",
        "#2nd Way to SUM\n",
        "y.add_(x)\n",
        "print(y)\n",
        "\n",
        "\n",
        "#Sub\n",
        "xx=torch.rand(2,2)\n",
        "yy=torch.rand(2,2)\n",
        "zz=torch.sub(xx,yy)\n",
        "#OR\n",
        "#y.sub_(x)\n",
        "#print(y)\n",
        "\n",
        "\n",
        "\n",
        "#Multiple\n",
        "x2=torch.rand(2,2)\n",
        "y2=torch.rand(2,2)\n",
        "z2=torch.mul(x2,y2)\n",
        "\n",
        "#Divid\n",
        "x3=torch.rand(2,2)\n",
        "y3=torch.rand(2,2)\n",
        "z3=torch.div(x3,y3)\n",
        "\n",
        "\n",
        "\n",
        "\n",
        "\n",
        "print(zz)\n",
        "print(z2)\n",
        "print(z3)\n"
      ],
      "metadata": {
        "colab": {
          "base_uri": "https://localhost:8080/"
        },
        "id": "Z7M9T1pFyCx3",
        "outputId": "9ac3a6be-6ca6-47b8-a219-6bebaf2ed6fa"
      },
      "execution_count": null,
      "outputs": [
        {
          "output_type": "stream",
          "name": "stdout",
          "text": [
            "tensor([[0.0667, 0.3340],\n",
            "        [0.7654, 0.4920]])\n",
            "tensor([[0.2987, 0.2480],\n",
            "        [0.3114, 0.6345]])\n",
            "tensor([[0.3655, 0.5820],\n",
            "        [1.0768, 1.1265]])\n",
            "tensor([[-0.4849, -0.5917],\n",
            "        [-0.1589, -0.1285]])\n",
            "tensor([[0.1259, 0.3636],\n",
            "        [0.0222, 0.4867]])\n",
            "tensor([[0.6242, 4.5269],\n",
            "        [1.8357, 2.7360]])\n"
          ]
        }
      ]
    },
    {
      "cell_type": "code",
      "source": [
        "x=torch.rand(5,3)\n",
        "print(x) #Whole Tensor\n",
        "print(x[:,0])   #ALL rows but Column 0\n",
        "print(x[1,:])   #row 1 but ALL columns\n",
        "\n",
        "print(x[1,1].item())   #Actual Value"
      ],
      "metadata": {
        "colab": {
          "base_uri": "https://localhost:8080/"
        },
        "id": "eeJuN_WtDGKm",
        "outputId": "1c39dc30-837b-4918-bf07-332b308efa66"
      },
      "execution_count": null,
      "outputs": [
        {
          "output_type": "stream",
          "name": "stdout",
          "text": [
            "tensor([[0.9174, 0.5620, 0.7909],\n",
            "        [0.4529, 0.2490, 0.7532],\n",
            "        [0.4202, 0.8289, 0.8184],\n",
            "        [0.0688, 0.0137, 0.2581],\n",
            "        [0.0800, 0.4873, 0.9666]])\n",
            "tensor([0.9174, 0.4529, 0.4202, 0.0688, 0.0800])\n",
            "tensor([0.4529, 0.2490, 0.7532])\n",
            "0.2489910125732422\n"
          ]
        }
      ]
    },
    {
      "cell_type": "code",
      "source": [
        "#Reshape/resize into 1D array\n",
        "\n",
        "x=torch.rand(4,4)\n",
        "print(x)\n",
        "#y=x.view(16)\n",
        "#print(y)\n",
        "\n",
        "\n",
        "#OR \n",
        "y=x.view(-1,8)\n",
        "print(y.size())"
      ],
      "metadata": {
        "colab": {
          "base_uri": "https://localhost:8080/"
        },
        "id": "Lzslq-MeFP69",
        "outputId": "e62446ee-6a7c-4e8f-c142-136ff821d296"
      },
      "execution_count": null,
      "outputs": [
        {
          "output_type": "stream",
          "name": "stdout",
          "text": [
            "tensor([[0.3134, 0.2684, 0.2668, 0.2503],\n",
            "        [0.1488, 0.6928, 0.6821, 0.6400],\n",
            "        [0.0850, 0.1529, 0.3559, 0.0163],\n",
            "        [0.6862, 0.2307, 0.5651, 0.5860]])\n",
            "torch.Size([2, 8])\n"
          ]
        }
      ]
    },
    {
      "cell_type": "code",
      "source": [
        "#Converting From Numpy to Torch or <--->\n",
        "\n",
        "import numpy as np\n",
        "\n",
        "a=torch.ones(5)\n",
        "print(a)\n",
        "b=a.numpy()\n",
        "print(type(b))\n",
        "\n",
        "a.add_(1)\n",
        "print(a)\n",
        "print(b) #Cause they both point to the same memory location\n",
        "\n",
        "\n",
        "\n",
        "# <---->\n",
        "a2=np.ones(5)\n",
        "print(a2)\n",
        "print(type(a2))\n",
        "b2=torch.from_numpy(a2)\n",
        "print(b2)\n",
        "\n",
        "a2 +=1\n",
        "print(a2)\n",
        "print(b2)"
      ],
      "metadata": {
        "colab": {
          "base_uri": "https://localhost:8080/"
        },
        "id": "ksrfW3w2GNEp",
        "outputId": "da511292-791a-42cb-866c-445ab2f2d18e"
      },
      "execution_count": null,
      "outputs": [
        {
          "output_type": "stream",
          "name": "stdout",
          "text": [
            "tensor([1., 1., 1., 1., 1.])\n",
            "<class 'numpy.ndarray'>\n",
            "tensor([2., 2., 2., 2., 2.])\n",
            "[2. 2. 2. 2. 2.]\n",
            "[1. 1. 1. 1. 1.]\n",
            "<class 'numpy.ndarray'>\n",
            "tensor([1., 1., 1., 1., 1.], dtype=torch.float64)\n",
            "[2. 2. 2. 2. 2.]\n",
            "tensor([2., 2., 2., 2., 2.], dtype=torch.float64)\n"
          ]
        }
      ]
    },
    {
      "cell_type": "code",
      "source": [
        "#if we have a variable needs to be optimized later\n",
        "x=torch.ones(5, requires_grad=True)  # Needs to calculate gradient for this tensor later in optimization steps\n",
        "print(x)\n"
      ],
      "metadata": {
        "colab": {
          "base_uri": "https://localhost:8080/"
        },
        "id": "6eG7Zw3DIC93",
        "outputId": "f7ee2d48-31ac-4f1f-ea01-fabf6184ebdd"
      },
      "execution_count": null,
      "outputs": [
        {
          "output_type": "stream",
          "name": "stdout",
          "text": [
            "tensor([1., 1., 1., 1., 1.], requires_grad=True)\n"
          ]
        }
      ]
    }
  ]
}