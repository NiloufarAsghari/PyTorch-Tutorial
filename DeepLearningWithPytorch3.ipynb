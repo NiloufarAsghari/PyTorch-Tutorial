{
  "nbformat": 4,
  "nbformat_minor": 0,
  "metadata": {
    "colab": {
      "name": "DeepLearningWithPytorch3.ipynb",
      "provenance": [],
      "authorship_tag": "ABX9TyOC54UtEKVetaDtMh5oP8cT",
      "include_colab_link": true
    },
    "kernelspec": {
      "name": "python3",
      "display_name": "Python 3"
    },
    "language_info": {
      "name": "python"
    }
  },
  "cells": [
    {
      "cell_type": "markdown",
      "metadata": {
        "id": "view-in-github",
        "colab_type": "text"
      },
      "source": [
        "<a href=\"https://colab.research.google.com/github/NiloufarAsghari/PyTorch-Tutorial/blob/main/DeepLearningWithPytorch3.ipynb\" target=\"_parent\"><img src=\"https://colab.research.google.com/assets/colab-badge.svg\" alt=\"Open In Colab\"/></a>"
      ]
    },
    {
      "cell_type": "markdown",
      "source": [
        "This Link can help you alot\\\n",
        "https://www.youtube.com/watch?v=IHZwWFHWa-w\n",
        "\n",
        "Gradient ---> Model Optimization\n"
      ],
      "metadata": {
        "id": "dvgXDk5LXOWu"
      }
    },
    {
      "cell_type": "code",
      "execution_count": 1,
      "metadata": {
        "id": "rIqgkzPM1HjU"
      },
      "outputs": [],
      "source": [
        "#Autograd\n",
        "#Gradient Computation\n",
        "\n",
        "import torch"
      ]
    },
    {
      "cell_type": "code",
      "source": [
        "x=torch.rand(2,requires_grad=True) #PyTorch will create Computational Graph ---> When Operation\n",
        "print(x)"
      ],
      "metadata": {
        "colab": {
          "base_uri": "https://localhost:8080/"
        },
        "id": "Nqf9MuIb7WM4",
        "outputId": "e114c301-886f-4dfb-8414-81919b127810"
      },
      "execution_count": 4,
      "outputs": [
        {
          "output_type": "stream",
          "name": "stdout",
          "text": [
            "tensor([0.6061, 0.4242], requires_grad=True)\n"
          ]
        }
      ]
    },
    {
      "cell_type": "code",
      "source": [
        "#Let's Try Operation on X\n",
        "y=x+2  #GradFunction---> AddBackward\n",
        "print(y)\n",
        "\n",
        "#More operation\n",
        "z=y*y*2  #Func ---> Multiple\n",
        "print(z)\n",
        "\n",
        "#Apply Mean Operation\n",
        "z=z.mean()\n",
        "print(z)\n",
        "\n",
        "#calculate the gradient\n",
        "z.backward()  # dz/dx\n",
        "\n",
        "#where the gradients stored\n",
        "print(x.grad)"
      ],
      "metadata": {
        "colab": {
          "base_uri": "https://localhost:8080/"
        },
        "id": "AI31EhyKW_nW",
        "outputId": "6e6fc2d3-1e4c-4334-a1f9-dbb039af2d6e"
      },
      "execution_count": 10,
      "outputs": [
        {
          "output_type": "stream",
          "name": "stdout",
          "text": [
            "tensor([2.6061, 2.4242], grad_fn=<AddBackward0>)\n",
            "tensor([13.5834, 11.7537], grad_fn=<MulBackward0>)\n",
            "tensor(12.6686, grad_fn=<MeanBackward0>)\n",
            "tensor([5.2122, 4.8485])\n"
          ]
        }
      ]
    },
    {
      "cell_type": "code",
      "source": [
        "#if we don't specify requires_grad=True\n",
        "\n",
        "x1=torch.rand(2)  #by default requires_grad is False\n",
        "print(x1)\n",
        "y1=x1*2\n",
        "z1=y1*y1*2\n",
        "z1=z1.mean()\n",
        "z1.backward()  #Obviously we get the error !\n",
        "#print(x1.grad)"
      ],
      "metadata": {
        "colab": {
          "base_uri": "https://localhost:8080/",
          "height": 380
        },
        "id": "4pZrZUNTfW8W",
        "outputId": "62f8f2ab-d1a6-4732-f345-9a9bc5e7a6b6"
      },
      "execution_count": 14,
      "outputs": [
        {
          "output_type": "stream",
          "name": "stdout",
          "text": [
            "tensor([0.6111, 0.2769])\n"
          ]
        },
        {
          "output_type": "error",
          "ename": "RuntimeError",
          "evalue": "ignored",
          "traceback": [
            "\u001b[0;31m---------------------------------------------------------------------------\u001b[0m",
            "\u001b[0;31mRuntimeError\u001b[0m                              Traceback (most recent call last)",
            "\u001b[0;32m<ipython-input-14-b922b68fbcca>\u001b[0m in \u001b[0;36m<module>\u001b[0;34m()\u001b[0m\n\u001b[1;32m      6\u001b[0m \u001b[0mz1\u001b[0m\u001b[0;34m=\u001b[0m\u001b[0my1\u001b[0m\u001b[0;34m*\u001b[0m\u001b[0my1\u001b[0m\u001b[0;34m*\u001b[0m\u001b[0;36m2\u001b[0m\u001b[0;34m\u001b[0m\u001b[0;34m\u001b[0m\u001b[0m\n\u001b[1;32m      7\u001b[0m \u001b[0mz1\u001b[0m\u001b[0;34m=\u001b[0m\u001b[0mz1\u001b[0m\u001b[0;34m.\u001b[0m\u001b[0mmean\u001b[0m\u001b[0;34m(\u001b[0m\u001b[0;34m)\u001b[0m\u001b[0;34m\u001b[0m\u001b[0;34m\u001b[0m\u001b[0m\n\u001b[0;32m----> 8\u001b[0;31m \u001b[0mz1\u001b[0m\u001b[0;34m.\u001b[0m\u001b[0mbackward\u001b[0m\u001b[0;34m(\u001b[0m\u001b[0;34m)\u001b[0m  \u001b[0;31m#Obviously we get the error !\u001b[0m\u001b[0;34m\u001b[0m\u001b[0;34m\u001b[0m\u001b[0m\n\u001b[0m\u001b[1;32m      9\u001b[0m \u001b[0;31m#print(x1.grad)\u001b[0m\u001b[0;34m\u001b[0m\u001b[0;34m\u001b[0m\u001b[0;34m\u001b[0m\u001b[0m\n",
            "\u001b[0;32m/usr/local/lib/python3.7/dist-packages/torch/_tensor.py\u001b[0m in \u001b[0;36mbackward\u001b[0;34m(self, gradient, retain_graph, create_graph, inputs)\u001b[0m\n\u001b[1;32m    361\u001b[0m                 \u001b[0mcreate_graph\u001b[0m\u001b[0;34m=\u001b[0m\u001b[0mcreate_graph\u001b[0m\u001b[0;34m,\u001b[0m\u001b[0;34m\u001b[0m\u001b[0;34m\u001b[0m\u001b[0m\n\u001b[1;32m    362\u001b[0m                 inputs=inputs)\n\u001b[0;32m--> 363\u001b[0;31m         \u001b[0mtorch\u001b[0m\u001b[0;34m.\u001b[0m\u001b[0mautograd\u001b[0m\u001b[0;34m.\u001b[0m\u001b[0mbackward\u001b[0m\u001b[0;34m(\u001b[0m\u001b[0mself\u001b[0m\u001b[0;34m,\u001b[0m \u001b[0mgradient\u001b[0m\u001b[0;34m,\u001b[0m \u001b[0mretain_graph\u001b[0m\u001b[0;34m,\u001b[0m \u001b[0mcreate_graph\u001b[0m\u001b[0;34m,\u001b[0m \u001b[0minputs\u001b[0m\u001b[0;34m=\u001b[0m\u001b[0minputs\u001b[0m\u001b[0;34m)\u001b[0m\u001b[0;34m\u001b[0m\u001b[0;34m\u001b[0m\u001b[0m\n\u001b[0m\u001b[1;32m    364\u001b[0m \u001b[0;34m\u001b[0m\u001b[0m\n\u001b[1;32m    365\u001b[0m     \u001b[0;32mdef\u001b[0m \u001b[0mregister_hook\u001b[0m\u001b[0;34m(\u001b[0m\u001b[0mself\u001b[0m\u001b[0;34m,\u001b[0m \u001b[0mhook\u001b[0m\u001b[0;34m)\u001b[0m\u001b[0;34m:\u001b[0m\u001b[0;34m\u001b[0m\u001b[0;34m\u001b[0m\u001b[0m\n",
            "\u001b[0;32m/usr/local/lib/python3.7/dist-packages/torch/autograd/__init__.py\u001b[0m in \u001b[0;36mbackward\u001b[0;34m(tensors, grad_tensors, retain_graph, create_graph, grad_variables, inputs)\u001b[0m\n\u001b[1;32m    173\u001b[0m     Variable._execution_engine.run_backward(  # Calls into the C++ engine to run the backward pass\n\u001b[1;32m    174\u001b[0m         \u001b[0mtensors\u001b[0m\u001b[0;34m,\u001b[0m \u001b[0mgrad_tensors_\u001b[0m\u001b[0;34m,\u001b[0m \u001b[0mretain_graph\u001b[0m\u001b[0;34m,\u001b[0m \u001b[0mcreate_graph\u001b[0m\u001b[0;34m,\u001b[0m \u001b[0minputs\u001b[0m\u001b[0;34m,\u001b[0m\u001b[0;34m\u001b[0m\u001b[0;34m\u001b[0m\u001b[0m\n\u001b[0;32m--> 175\u001b[0;31m         allow_unreachable=True, accumulate_grad=True)  # Calls into the C++ engine to run the backward pass\n\u001b[0m\u001b[1;32m    176\u001b[0m \u001b[0;34m\u001b[0m\u001b[0m\n\u001b[1;32m    177\u001b[0m def grad(\n",
            "\u001b[0;31mRuntimeError\u001b[0m: element 0 of tensors does not require grad and does not have a grad_fn"
          ]
        }
      ]
    },
    {
      "cell_type": "code",
      "source": [
        "x2=torch.rand(2, requires_grad=True)  \n",
        "print(x2)\n",
        "y2=x2*2\n",
        "z2=y2*y2*2\n",
        "#z2=z2.mean()   #Operation create Scalar value\n",
        "\n",
        "#create vector of same size as x2\n",
        "\n",
        "v=torch.tensor([0.002,0.02],dtype=torch.float32)\n",
        "#pass vector V to backward function\n",
        "\n",
        "z2.backward(v) #now although we commented z.mean() we can run the code without error \n",
        "\n",
        "print(x2.grad)"
      ],
      "metadata": {
        "colab": {
          "base_uri": "https://localhost:8080/"
        },
        "id": "-mczH5Aeg0EA",
        "outputId": "b332d36b-4b4c-4e5f-d207-c590f93b0da8"
      },
      "execution_count": 17,
      "outputs": [
        {
          "output_type": "stream",
          "name": "stdout",
          "text": [
            "tensor([0.1345, 0.2964], requires_grad=True)\n",
            "tensor([0.0043, 0.0949])\n"
          ]
        }
      ]
    },
    {
      "cell_type": "code",
      "source": [
        "#Prevent From Tracking Gradients\n",
        "\n",
        "x3= torch.rand(2, requires_grad=True)\n",
        "print(x3)\n",
        "#option 1  ---> requires_grad_(Flase)\n",
        "x3=x3.requires_grad_(False)\n",
        "print(x3)\n",
        "\n",
        "\n",
        "#option 2  ---> x.detach() create new tensor that doesn't require new gradient\n",
        "#create new tensor with the same values but it doesn't require new gradient\n",
        "y3=x3.detach()\n",
        "print(y3)\n",
        "\n",
        "\n",
        "\n",
        "#option 3  ---> whit torch.no_grad() \n",
        "with torch.no_grad():\n",
        "  z3=x3+2\n",
        "  print(z3)\n",
        "\n",
        "\n"
      ],
      "metadata": {
        "colab": {
          "base_uri": "https://localhost:8080/"
        },
        "id": "3ZQS6MOojJTT",
        "outputId": "2ca2b0a7-9dcd-43fa-b0e3-ea21a03fc03a"
      },
      "execution_count": 23,
      "outputs": [
        {
          "output_type": "stream",
          "name": "stdout",
          "text": [
            "tensor([0.0443, 0.8087], requires_grad=True)\n",
            "tensor([0.0443, 0.8087])\n",
            "tensor([0.0443, 0.8087])\n",
            "tensor([2.0443, 2.8087])\n"
          ]
        }
      ]
    },
    {
      "cell_type": "markdown",
      "source": [
        "Before we want to do the next operation or the next iteration in our optimization steps, we\n",
        "\n",
        "**Must empty our gradient**\n",
        "\n",
        "grad.zero_()"
      ],
      "metadata": {
        "id": "D_dmfAjP6P7V"
      }
    },
    {
      "cell_type": "code",
      "source": [
        "#ex\n",
        "\n",
        "weights=torch.ones(2,requires_grad=True)\n",
        "\n",
        "\n",
        "#training loop\n",
        "for epoch in range(3):  #we will see for each epoch(iteration) backward will accumulate the values and write them in grad wich is not right\n",
        "  #a simple operation\n",
        "  model_out=(weights*2).sum()\n",
        "  model_out.backward()\n",
        "  #Print Gradients\n",
        "  print(weights.grad)\n",
        "\n",
        "  #to prevent accumulating we must empty the gradients  ---> Uncomment the code below\n",
        " # weights.grad.zero_()"
      ],
      "metadata": {
        "colab": {
          "base_uri": "https://localhost:8080/"
        },
        "id": "IfO0ezppzF_-",
        "outputId": "025df8a4-a2e4-459e-ed29-bcc1a63001ae"
      },
      "execution_count": 27,
      "outputs": [
        {
          "output_type": "stream",
          "name": "stdout",
          "text": [
            "tensor([2., 2.])\n",
            "tensor([4., 4.])\n",
            "tensor([6., 6.])\n"
          ]
        }
      ]
    },
    {
      "cell_type": "code",
      "source": [
        "#work with optimizer use torch optimization package\n",
        "weights=torch.ones(3,requires_grad=True)\n",
        "\n",
        "optimizer=torch.optim.SGD(weights, lr=0.01)\n",
        "#with that optimizer, do optimization step\n",
        "optimizer.step()\n",
        "#before we go to our nexr optimization step we must empty our gradient\n",
        "optimizer.zero_grad()"
      ],
      "metadata": {
        "id": "qkuUwqMw1HJJ"
      },
      "execution_count": null,
      "outputs": []
    }
  ]
}